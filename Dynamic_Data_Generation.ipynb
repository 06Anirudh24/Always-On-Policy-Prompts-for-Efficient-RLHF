{
  "nbformat": 4,
  "nbformat_minor": 0,
  "metadata": {
    "colab": {
      "provenance": []
    },
    "kernelspec": {
      "name": "python3",
      "display_name": "Python 3"
    },
    "language_info": {
      "name": "python"
    }
  },
  "cells": [
    {
      "cell_type": "markdown",
      "source": [
        "#Load SHP Dataset"
      ],
      "metadata": {
        "id": "KhYmx4ZQ2AKT"
      }
    },
    {
      "cell_type": "code",
      "source": [
        "from google.colab import drive\n",
        "from google.colab import files\n",
        "drive.mount('/content/drive')\n",
        "import pandas as pd\n",
        "import numpy as np\n",
        "import random"
      ],
      "metadata": {
        "id": "KyrE7zlf7cY5"
      },
      "execution_count": null,
      "outputs": []
    },
    {
      "cell_type": "code",
      "execution_count": null,
      "metadata": {
        "id": "0wq-EwKy14KD"
      },
      "outputs": [],
      "source": [
        "!pip install datasets\n",
        "from datasets import load_dataset\n",
        "dataset = load_dataset(\"stanfordnlp/shp\")"
      ]
    },
    {
      "cell_type": "code",
      "source": [
        "# Checking domains\n",
        "domains = [row['domain'] for row in dataset['train']]\n",
        "# Getting unique values\n",
        "unique_domains = set(domains)\n",
        "#print(len(unique_domains))\n",
        "for domain in unique_domains:\n",
        "  print(domain)"
      ],
      "metadata": {
        "id": "Og5Elqq_2Gyh"
      },
      "execution_count": null,
      "outputs": []
    },
    {
      "cell_type": "code",
      "source": [
        "dataset['train'].column_names"
      ],
      "metadata": {
        "id": "tQu87wmf2L3J"
      },
      "execution_count": null,
      "outputs": []
    },
    {
      "cell_type": "code",
      "source": [
        "# Convert dataset to df\n",
        "data_df = pd.DataFrame(dataset['train'])\n",
        "\n",
        "# Create empty DataFrame - 50rows per category\n",
        "df = pd.DataFrame(columns=['domain', 'history', 'human_ref_A'])\n",
        "\n",
        "# Iterate over each unique domain\n",
        "for domain in data_df['domain'].unique():\n",
        "    sampled_rows = data_df[data_df['domain'] == domain].sample(n=50, replace=False)  # Sample 50 random rows for the current domain\n",
        "    df = pd.concat([df, sampled_rows[['domain', 'history', 'human_ref_A']]], ignore_index=True) # Append rows to df"
      ],
      "metadata": {
        "id": "9oigkpA13VJp"
      },
      "execution_count": null,
      "outputs": []
    },
    {
      "cell_type": "code",
      "source": [
        "df.head()"
      ],
      "metadata": {
        "id": "uYvq9snf6Ras"
      },
      "execution_count": null,
      "outputs": []
    },
    {
      "cell_type": "code",
      "source": [
        "df.shape[0]/18"
      ],
      "metadata": {
        "id": "Moy_9Fmp6Rlv"
      },
      "execution_count": null,
      "outputs": []
    },
    {
      "cell_type": "code",
      "source": [
        "file_path = '/content/drive/My Drive/Dynamic_gen_input.csv'\n",
        "df.to_csv(file_path, index=False)"
      ],
      "metadata": {
        "id": "6TKA8D-D8BIl"
      },
      "execution_count": null,
      "outputs": []
    },
    {
      "cell_type": "markdown",
      "source": [
        "#Get Reward Scores"
      ],
      "metadata": {
        "id": "fdVLDIn182Lo"
      }
    },
    {
      "cell_type": "code",
      "source": [
        "file_path = '/content/drive/My Drive/Dynamic_gen_input.csv'\n",
        "df = pd.read_csv(file_path)\n",
        "df.head()"
      ],
      "metadata": {
        "id": "hJmaSge48iHp"
      },
      "execution_count": null,
      "outputs": []
    },
    {
      "cell_type": "code",
      "source": [
        "import torch\n",
        "assert torch.cuda.is_available()\n",
        "device_name = torch.cuda.get_device_name()\n",
        "n_gpu = torch.cuda.device_count()\n",
        "print(f\"Found device: {device_name}, n_gpu: {n_gpu}\")\n",
        "device = torch.device(\"cuda\")"
      ],
      "metadata": {
        "id": "4wcMHkOc-Au_"
      },
      "execution_count": null,
      "outputs": []
    },
    {
      "cell_type": "code",
      "source": [
        "from transformers import AutoModelForSequenceClassification, AutoTokenizer\n",
        "reward_name = \"OpenAssistant/reward-model-deberta-v3-large-v2\"\n",
        "rank_model, tokenizer = AutoModelForSequenceClassification.from_pretrained(reward_name), AutoTokenizer.from_pretrained(reward_name)"
      ],
      "metadata": {
        "id": "qhYrwPrIjWtQ"
      },
      "execution_count": null,
      "outputs": []
    },
    {
      "cell_type": "code",
      "source": [
        "for index, row in df.iterrows():\n",
        "    print(\"Scoring sentence: \", index)\n",
        "    question, answer = str(row['history']), str(row['answer'])\n",
        "    inputs = tokenizer(question, answer, return_tensors='pt')\n",
        "    score = rank_model(**inputs).logits[0].cpu().detach()\n",
        "    score = score.item()\n",
        "    df.at[index, 'score'] = score"
      ],
      "metadata": {
        "id": "NIthV5Yij2Is"
      },
      "execution_count": null,
      "outputs": []
    },
    {
      "cell_type": "code",
      "source": [
        "Question = \"Where does the sun rise?\"\n",
        "answer = \"The Sun rises in the east.\"\n",
        "output = compute_reward(Question, answer)\n",
        "output"
      ],
      "metadata": {
        "id": "w3BD0Jwq_rUz"
      },
      "execution_count": null,
      "outputs": []
    },
    {
      "cell_type": "code",
      "source": [
        "# Standardize the reward scores.\n",
        "# Alternate: min-max normalization\n",
        "df['z_normalized_reward'] = (df['score'] - df['score'].mean()) / df['score'].std()"
      ],
      "metadata": {
        "id": "g5k6vyc3Ge8-"
      },
      "execution_count": null,
      "outputs": []
    },
    {
      "cell_type": "code",
      "source": [
        "df['z_normalized_reward'].mean()"
      ],
      "metadata": {
        "id": "IF5LUcnAHWze"
      },
      "execution_count": null,
      "outputs": []
    },
    {
      "cell_type": "code",
      "source": [
        "df['z_normalized_reward'].max()"
      ],
      "metadata": {
        "id": "IVN4zj_rHZay"
      },
      "execution_count": null,
      "outputs": []
    },
    {
      "cell_type": "code",
      "source": [
        "df['z_normalized_reward'].min()"
      ],
      "metadata": {
        "id": "BoLNDp2LHcR5"
      },
      "execution_count": null,
      "outputs": []
    },
    {
      "cell_type": "code",
      "source": [
        "df.to_csv(file_path, index=False)"
      ],
      "metadata": {
        "id": "Ld_iNF1qISMm"
      },
      "execution_count": null,
      "outputs": []
    },
    {
      "cell_type": "markdown",
      "source": [
        "#Dynamic Question Generation"
      ],
      "metadata": {
        "id": "FgA2Vz8CKkGx"
      }
    },
    {
      "cell_type": "code",
      "source": [
        "from google.colab import drive\n",
        "from google.colab import files\n",
        "drive.mount('/content/drive')\n",
        "import pandas as pd\n",
        "import numpy as np\n",
        "import random"
      ],
      "metadata": {
        "id": "gCIRXs1JGzyu"
      },
      "execution_count": null,
      "outputs": []
    },
    {
      "cell_type": "code",
      "source": [
        "file_path = '/content/drive/My Drive/Dynamic_gen_input.csv'\n",
        "output_path = \"/content/drive/My Drive/Dynamic_gen_output.csv\"\n",
        "output_df = pd.DataFrame(columns=['Category', 'Question'])\n",
        "df = pd.read_csv(file_path)\n",
        "df.head()"
      ],
      "metadata": {
        "id": "xgHtBqIFKoH5"
      },
      "execution_count": null,
      "outputs": []
    },
    {
      "cell_type": "code",
      "source": [
        "#New dataframe - 8 random rows from each of the 18 categories: -\n",
        "Gemini_input_df = pd.DataFrame()\n",
        "\n",
        "for _, group in df.groupby('domain'):\n",
        "    random_sample = group.sample(n=8, replace=False)\n",
        "    Gemini_input_df = pd.concat([Gemini_input_df, random_sample], ignore_index=True)"
      ],
      "metadata": {
        "id": "ZKjfbY9tMq9m"
      },
      "execution_count": null,
      "outputs": []
    },
    {
      "cell_type": "code",
      "source": [
        "#Build a string from the 108 examples - goes as input to the Gemini model\n",
        "Gemini_input_df['z_normalized_reward'] = Gemini_input_df['z_normalized_reward'].astype(str)\n",
        "Gemini_input_string = \"\"\n",
        "for index, row in Gemini_input_df.iterrows():\n",
        "    Gemini_input_string += (\"Domain: \" + row['domain'] +\n",
        "                            \". Question: \" + row['history'] +\n",
        "                            \" Answer: \" + row['human_ref_A'] +\n",
        "                            \" Helpfulness Score for the Answer: \" + row['z_normalized_reward'] + \". \")\n",
        "Gemini_input_string"
      ],
      "metadata": {
        "id": "CHaMSsIcNBSp"
      },
      "execution_count": null,
      "outputs": []
    },
    {
      "cell_type": "code",
      "source": [
        "#Imports\n",
        "import pathlib\n",
        "import re\n",
        "import textwrap\n",
        "\n",
        "import google.generativeai as genai\n",
        "\n",
        "from IPython.display import display\n",
        "from IPython.display import Markdown\n",
        "\n",
        "\n",
        "def to_markdown(text):\n",
        "  text = text.replace('•', '  *')\n",
        "  return Markdown(textwrap.indent(text, '> ', predicate=lambda _: True))\n",
        "\n",
        "#Import to store API on Colab\n",
        "from google.colab import userdata"
      ],
      "metadata": {
        "id": "y9YqD4RvKtH6"
      },
      "execution_count": null,
      "outputs": []
    },
    {
      "cell_type": "code",
      "source": [
        "#Put API Key in environment variable under 'secrets'\n",
        "GOOGLE_API_KEY = userdata.get('GOOGL_API_KEY')\n",
        "genai.configure(api_key = GOOGLE_API_KEY)"
      ],
      "metadata": {
        "id": "rSM6iej1K9_0"
      },
      "execution_count": null,
      "outputs": []
    },
    {
      "cell_type": "code",
      "source": [
        "model = genai.GenerativeModel('gemini-1.5-pro-latest')"
      ],
      "metadata": {
        "id": "Xiv_m9JsLA82"
      },
      "execution_count": null,
      "outputs": []
    },
    {
      "cell_type": "code",
      "source": [
        "response = model.generate_content(\"Where does the sun rise?\")\n",
        "to_markdown(response.text) #Prints output."
      ],
      "metadata": {
        "id": "fZKJ8ZtFLD5q"
      },
      "execution_count": null,
      "outputs": []
    },
    {
      "cell_type": "code",
      "source": [
        "prompt = \"\"\"You are a writing expert. I will give you a set of 144 questions and answers along with the domain of the question, and the helpfulness score for the answer with respect to the question.\n",
        "A higher score means that the answer is helpful with respect to the question.\n",
        "Go through all the  examples and identify the domains in which the answers have received a poor score.\n",
        "Also, among the questions which have received a poor score, check for common patterns. For example, all these questions might be fact-related, or might use some proper noun in them.\n",
        "Similarly, check for common patterns in the domains which have received a high score.\n",
        "Your task is to come up with a set of 20 questions, primarily focused on domains that have received a low score. Make sure that you use common patterns from the high performing questions while framing these questions.\n",
        "Print exactly a numbered list of 20 items. Each item should first the category name in paranthesis followed by the question you have generated.\n",
        "Here are the questions along with the corresponding domains, answers, and helpfulness scores.\n",
        "\"\"\"\n"
      ],
      "metadata": {
        "id": "etoWKiVpFSYU"
      },
      "execution_count": null,
      "outputs": []
    },
    {
      "cell_type": "code",
      "source": [
        "prompt = prompt + Gemini_input_string\n",
        "response = model.generate_content(prompt)\n",
        "to_markdown(response.text) #Prints output."
      ],
      "metadata": {
        "id": "_xb9r3YcLqhQ"
      },
      "execution_count": null,
      "outputs": []
    },
    {
      "cell_type": "code",
      "source": [
        "\"\"\"\n",
        "for i in range(20):\n",
        "  response = model.generate_content(prompt)\n",
        "  print(i)\n",
        "\"\"\""
      ],
      "metadata": {
        "id": "t_gm9jrLS_P8"
      },
      "execution_count": null,
      "outputs": []
    },
    {
      "cell_type": "code",
      "source": [
        "Gem_out = response.text\n",
        "Gem_out"
      ],
      "metadata": {
        "id": "gTfOnu0vGijS"
      },
      "execution_count": null,
      "outputs": []
    },
    {
      "cell_type": "code",
      "source": [
        "# Remove everything before the first question\n",
        "Gem_out_cleaned = re.sub(r'^.*?1\\.', '1.', Gem_out, flags=re.DOTALL)\n",
        "\n",
        "# Splitting the string into a list of questions\n",
        "questions = re.split(r'\\d+\\.\\s*\\(', Gem_out_cleaned)\n",
        "\n",
        "# Removing the first empty element if present\n",
        "if questions[0] == '':\n",
        "    questions.pop(0)\n",
        "\n",
        "# Parsing each question to extract category and the question text\n",
        "for question in questions:\n",
        "    match = re.match(r'(.*?)\\)\\s*(.*)', question)\n",
        "    if match:\n",
        "        category = match.group(1).strip()\n",
        "        question_text = match.group(2).strip()\n",
        "        new_row = pd.DataFrame({'Category': [category], 'Question': [question_text]})\n",
        "        output_df = pd.concat([output_df, new_row], ignore_index=True)\n",
        "\n",
        "\n"
      ],
      "metadata": {
        "id": "YLYVwSPOIPI0"
      },
      "execution_count": null,
      "outputs": []
    },
    {
      "cell_type": "code",
      "source": [
        "output_df.iloc[0][-1]"
      ],
      "metadata": {
        "id": "9H7QUsj4JoTl"
      },
      "execution_count": null,
      "outputs": []
    },
    {
      "cell_type": "markdown",
      "source": [
        "# Loop"
      ],
      "metadata": {
        "id": "JuLWDVmJPnLH"
      }
    },
    {
      "cell_type": "code",
      "source": [
        "from google.colab import drive\n",
        "from google.colab import files\n",
        "drive.mount('/content/drive')\n",
        "import pandas as pd\n",
        "import numpy as np\n",
        "import random"
      ],
      "metadata": {
        "colab": {
          "base_uri": "https://localhost:8080/"
        },
        "id": "DZQ_kmS5PpcI",
        "outputId": "cfa94023-ca1c-425c-ef9b-98c4a7cc10ee"
      },
      "execution_count": null,
      "outputs": [
        {
          "output_type": "stream",
          "name": "stdout",
          "text": [
            "Mounted at /content/drive\n"
          ]
        }
      ]
    },
    {
      "cell_type": "code",
      "source": [
        "file_path = '/content/drive/My Drive/Dynamic_gen_input.csv'\n",
        "output_path = \"/content/drive/My Drive/Dynamic_gen_output.csv\"\n",
        "output_df = pd.read_csv(output_path)\n",
        "df = pd.read_csv(file_path)\n",
        "df.head()"
      ],
      "metadata": {
        "colab": {
          "base_uri": "https://localhost:8080/",
          "height": 206
        },
        "id": "0ixPhje9Ppeo",
        "outputId": "ce4fcdbd-6d57-43ac-ba46-d96fa1d997f4"
      },
      "execution_count": null,
      "outputs": [
        {
          "output_type": "execute_result",
          "data": {
            "text/plain": [
              "              domain                                            history  \\\n",
              "0  askacademia_train  Working during maternity leave in academia: Wh...   \n",
              "1  askacademia_train  The 'Other' College Scandal: Grade Inflation H...   \n",
              "2  askacademia_train  Access denied to the last version of a paper w...   \n",
              "3  askacademia_train  How do you deal with presentation anxiety. Hel...   \n",
              "4  askacademia_train  \"....managers should always make love to their...   \n",
              "\n",
              "                                         human_ref_A  reward score  \\\n",
              "0  Unfortunately academia is relentless. PIs see ...      0.982035   \n",
              "1  Alternative suggestion, get rid of grades and ...      0.955293   \n",
              "2  How are you supposed to address their concerns...      0.771383   \n",
              "3  Gather some folks and present in front of them...      0.913921   \n",
              "4     I mean, yeah. That is why we hire the hot ones      0.651910   \n",
              "\n",
              "   z_normalized_reward  \n",
              "0             0.740292  \n",
              "1             0.521819  \n",
              "2            -0.980610  \n",
              "3             0.183842  \n",
              "4            -1.956629  "
            ],
            "text/html": [
              "\n",
              "  <div id=\"df-936a7af8-82ce-4884-b663-b7b041ee8191\" class=\"colab-df-container\">\n",
              "    <div>\n",
              "<style scoped>\n",
              "    .dataframe tbody tr th:only-of-type {\n",
              "        vertical-align: middle;\n",
              "    }\n",
              "\n",
              "    .dataframe tbody tr th {\n",
              "        vertical-align: top;\n",
              "    }\n",
              "\n",
              "    .dataframe thead th {\n",
              "        text-align: right;\n",
              "    }\n",
              "</style>\n",
              "<table border=\"1\" class=\"dataframe\">\n",
              "  <thead>\n",
              "    <tr style=\"text-align: right;\">\n",
              "      <th></th>\n",
              "      <th>domain</th>\n",
              "      <th>history</th>\n",
              "      <th>human_ref_A</th>\n",
              "      <th>reward score</th>\n",
              "      <th>z_normalized_reward</th>\n",
              "    </tr>\n",
              "  </thead>\n",
              "  <tbody>\n",
              "    <tr>\n",
              "      <th>0</th>\n",
              "      <td>askacademia_train</td>\n",
              "      <td>Working during maternity leave in academia: Wh...</td>\n",
              "      <td>Unfortunately academia is relentless. PIs see ...</td>\n",
              "      <td>0.982035</td>\n",
              "      <td>0.740292</td>\n",
              "    </tr>\n",
              "    <tr>\n",
              "      <th>1</th>\n",
              "      <td>askacademia_train</td>\n",
              "      <td>The 'Other' College Scandal: Grade Inflation H...</td>\n",
              "      <td>Alternative suggestion, get rid of grades and ...</td>\n",
              "      <td>0.955293</td>\n",
              "      <td>0.521819</td>\n",
              "    </tr>\n",
              "    <tr>\n",
              "      <th>2</th>\n",
              "      <td>askacademia_train</td>\n",
              "      <td>Access denied to the last version of a paper w...</td>\n",
              "      <td>How are you supposed to address their concerns...</td>\n",
              "      <td>0.771383</td>\n",
              "      <td>-0.980610</td>\n",
              "    </tr>\n",
              "    <tr>\n",
              "      <th>3</th>\n",
              "      <td>askacademia_train</td>\n",
              "      <td>How do you deal with presentation anxiety. Hel...</td>\n",
              "      <td>Gather some folks and present in front of them...</td>\n",
              "      <td>0.913921</td>\n",
              "      <td>0.183842</td>\n",
              "    </tr>\n",
              "    <tr>\n",
              "      <th>4</th>\n",
              "      <td>askacademia_train</td>\n",
              "      <td>\"....managers should always make love to their...</td>\n",
              "      <td>I mean, yeah. That is why we hire the hot ones</td>\n",
              "      <td>0.651910</td>\n",
              "      <td>-1.956629</td>\n",
              "    </tr>\n",
              "  </tbody>\n",
              "</table>\n",
              "</div>\n",
              "    <div class=\"colab-df-buttons\">\n",
              "\n",
              "  <div class=\"colab-df-container\">\n",
              "    <button class=\"colab-df-convert\" onclick=\"convertToInteractive('df-936a7af8-82ce-4884-b663-b7b041ee8191')\"\n",
              "            title=\"Convert this dataframe to an interactive table.\"\n",
              "            style=\"display:none;\">\n",
              "\n",
              "  <svg xmlns=\"http://www.w3.org/2000/svg\" height=\"24px\" viewBox=\"0 -960 960 960\">\n",
              "    <path d=\"M120-120v-720h720v720H120Zm60-500h600v-160H180v160Zm220 220h160v-160H400v160Zm0 220h160v-160H400v160ZM180-400h160v-160H180v160Zm440 0h160v-160H620v160ZM180-180h160v-160H180v160Zm440 0h160v-160H620v160Z\"/>\n",
              "  </svg>\n",
              "    </button>\n",
              "\n",
              "  <style>\n",
              "    .colab-df-container {\n",
              "      display:flex;\n",
              "      gap: 12px;\n",
              "    }\n",
              "\n",
              "    .colab-df-convert {\n",
              "      background-color: #E8F0FE;\n",
              "      border: none;\n",
              "      border-radius: 50%;\n",
              "      cursor: pointer;\n",
              "      display: none;\n",
              "      fill: #1967D2;\n",
              "      height: 32px;\n",
              "      padding: 0 0 0 0;\n",
              "      width: 32px;\n",
              "    }\n",
              "\n",
              "    .colab-df-convert:hover {\n",
              "      background-color: #E2EBFA;\n",
              "      box-shadow: 0px 1px 2px rgba(60, 64, 67, 0.3), 0px 1px 3px 1px rgba(60, 64, 67, 0.15);\n",
              "      fill: #174EA6;\n",
              "    }\n",
              "\n",
              "    .colab-df-buttons div {\n",
              "      margin-bottom: 4px;\n",
              "    }\n",
              "\n",
              "    [theme=dark] .colab-df-convert {\n",
              "      background-color: #3B4455;\n",
              "      fill: #D2E3FC;\n",
              "    }\n",
              "\n",
              "    [theme=dark] .colab-df-convert:hover {\n",
              "      background-color: #434B5C;\n",
              "      box-shadow: 0px 1px 3px 1px rgba(0, 0, 0, 0.15);\n",
              "      filter: drop-shadow(0px 1px 2px rgba(0, 0, 0, 0.3));\n",
              "      fill: #FFFFFF;\n",
              "    }\n",
              "  </style>\n",
              "\n",
              "    <script>\n",
              "      const buttonEl =\n",
              "        document.querySelector('#df-936a7af8-82ce-4884-b663-b7b041ee8191 button.colab-df-convert');\n",
              "      buttonEl.style.display =\n",
              "        google.colab.kernel.accessAllowed ? 'block' : 'none';\n",
              "\n",
              "      async function convertToInteractive(key) {\n",
              "        const element = document.querySelector('#df-936a7af8-82ce-4884-b663-b7b041ee8191');\n",
              "        const dataTable =\n",
              "          await google.colab.kernel.invokeFunction('convertToInteractive',\n",
              "                                                    [key], {});\n",
              "        if (!dataTable) return;\n",
              "\n",
              "        const docLinkHtml = 'Like what you see? Visit the ' +\n",
              "          '<a target=\"_blank\" href=https://colab.research.google.com/notebooks/data_table.ipynb>data table notebook</a>'\n",
              "          + ' to learn more about interactive tables.';\n",
              "        element.innerHTML = '';\n",
              "        dataTable['output_type'] = 'display_data';\n",
              "        await google.colab.output.renderOutput(dataTable, element);\n",
              "        const docLink = document.createElement('div');\n",
              "        docLink.innerHTML = docLinkHtml;\n",
              "        element.appendChild(docLink);\n",
              "      }\n",
              "    </script>\n",
              "  </div>\n",
              "\n",
              "\n",
              "<div id=\"df-4953e105-8a1e-4c8e-8e21-735fc62f5f91\">\n",
              "  <button class=\"colab-df-quickchart\" onclick=\"quickchart('df-4953e105-8a1e-4c8e-8e21-735fc62f5f91')\"\n",
              "            title=\"Suggest charts\"\n",
              "            style=\"display:none;\">\n",
              "\n",
              "<svg xmlns=\"http://www.w3.org/2000/svg\" height=\"24px\"viewBox=\"0 0 24 24\"\n",
              "     width=\"24px\">\n",
              "    <g>\n",
              "        <path d=\"M19 3H5c-1.1 0-2 .9-2 2v14c0 1.1.9 2 2 2h14c1.1 0 2-.9 2-2V5c0-1.1-.9-2-2-2zM9 17H7v-7h2v7zm4 0h-2V7h2v10zm4 0h-2v-4h2v4z\"/>\n",
              "    </g>\n",
              "</svg>\n",
              "  </button>\n",
              "\n",
              "<style>\n",
              "  .colab-df-quickchart {\n",
              "      --bg-color: #E8F0FE;\n",
              "      --fill-color: #1967D2;\n",
              "      --hover-bg-color: #E2EBFA;\n",
              "      --hover-fill-color: #174EA6;\n",
              "      --disabled-fill-color: #AAA;\n",
              "      --disabled-bg-color: #DDD;\n",
              "  }\n",
              "\n",
              "  [theme=dark] .colab-df-quickchart {\n",
              "      --bg-color: #3B4455;\n",
              "      --fill-color: #D2E3FC;\n",
              "      --hover-bg-color: #434B5C;\n",
              "      --hover-fill-color: #FFFFFF;\n",
              "      --disabled-bg-color: #3B4455;\n",
              "      --disabled-fill-color: #666;\n",
              "  }\n",
              "\n",
              "  .colab-df-quickchart {\n",
              "    background-color: var(--bg-color);\n",
              "    border: none;\n",
              "    border-radius: 50%;\n",
              "    cursor: pointer;\n",
              "    display: none;\n",
              "    fill: var(--fill-color);\n",
              "    height: 32px;\n",
              "    padding: 0;\n",
              "    width: 32px;\n",
              "  }\n",
              "\n",
              "  .colab-df-quickchart:hover {\n",
              "    background-color: var(--hover-bg-color);\n",
              "    box-shadow: 0 1px 2px rgba(60, 64, 67, 0.3), 0 1px 3px 1px rgba(60, 64, 67, 0.15);\n",
              "    fill: var(--button-hover-fill-color);\n",
              "  }\n",
              "\n",
              "  .colab-df-quickchart-complete:disabled,\n",
              "  .colab-df-quickchart-complete:disabled:hover {\n",
              "    background-color: var(--disabled-bg-color);\n",
              "    fill: var(--disabled-fill-color);\n",
              "    box-shadow: none;\n",
              "  }\n",
              "\n",
              "  .colab-df-spinner {\n",
              "    border: 2px solid var(--fill-color);\n",
              "    border-color: transparent;\n",
              "    border-bottom-color: var(--fill-color);\n",
              "    animation:\n",
              "      spin 1s steps(1) infinite;\n",
              "  }\n",
              "\n",
              "  @keyframes spin {\n",
              "    0% {\n",
              "      border-color: transparent;\n",
              "      border-bottom-color: var(--fill-color);\n",
              "      border-left-color: var(--fill-color);\n",
              "    }\n",
              "    20% {\n",
              "      border-color: transparent;\n",
              "      border-left-color: var(--fill-color);\n",
              "      border-top-color: var(--fill-color);\n",
              "    }\n",
              "    30% {\n",
              "      border-color: transparent;\n",
              "      border-left-color: var(--fill-color);\n",
              "      border-top-color: var(--fill-color);\n",
              "      border-right-color: var(--fill-color);\n",
              "    }\n",
              "    40% {\n",
              "      border-color: transparent;\n",
              "      border-right-color: var(--fill-color);\n",
              "      border-top-color: var(--fill-color);\n",
              "    }\n",
              "    60% {\n",
              "      border-color: transparent;\n",
              "      border-right-color: var(--fill-color);\n",
              "    }\n",
              "    80% {\n",
              "      border-color: transparent;\n",
              "      border-right-color: var(--fill-color);\n",
              "      border-bottom-color: var(--fill-color);\n",
              "    }\n",
              "    90% {\n",
              "      border-color: transparent;\n",
              "      border-bottom-color: var(--fill-color);\n",
              "    }\n",
              "  }\n",
              "</style>\n",
              "\n",
              "  <script>\n",
              "    async function quickchart(key) {\n",
              "      const quickchartButtonEl =\n",
              "        document.querySelector('#' + key + ' button');\n",
              "      quickchartButtonEl.disabled = true;  // To prevent multiple clicks.\n",
              "      quickchartButtonEl.classList.add('colab-df-spinner');\n",
              "      try {\n",
              "        const charts = await google.colab.kernel.invokeFunction(\n",
              "            'suggestCharts', [key], {});\n",
              "      } catch (error) {\n",
              "        console.error('Error during call to suggestCharts:', error);\n",
              "      }\n",
              "      quickchartButtonEl.classList.remove('colab-df-spinner');\n",
              "      quickchartButtonEl.classList.add('colab-df-quickchart-complete');\n",
              "    }\n",
              "    (() => {\n",
              "      let quickchartButtonEl =\n",
              "        document.querySelector('#df-4953e105-8a1e-4c8e-8e21-735fc62f5f91 button');\n",
              "      quickchartButtonEl.style.display =\n",
              "        google.colab.kernel.accessAllowed ? 'block' : 'none';\n",
              "    })();\n",
              "  </script>\n",
              "</div>\n",
              "    </div>\n",
              "  </div>\n"
            ],
            "application/vnd.google.colaboratory.intrinsic+json": {
              "type": "dataframe",
              "variable_name": "df",
              "summary": "{\n  \"name\": \"df\",\n  \"rows\": 900,\n  \"fields\": [\n    {\n      \"column\": \"domain\",\n      \"properties\": {\n        \"dtype\": \"category\",\n        \"num_unique_values\": 18,\n        \"samples\": [\n          \"askacademia_train\",\n          \"askanthropology_train\",\n          \"askhr_train\"\n        ],\n        \"semantic_type\": \"\",\n        \"description\": \"\"\n      }\n    },\n    {\n      \"column\": \"history\",\n      \"properties\": {\n        \"dtype\": \"string\",\n        \"num_unique_values\": 853,\n        \"samples\": [\n          \"Does anyone know about Yakel tribe and Kastom culture in Vanuatu? Hello there!  I heard about this indigenous movie called Tanna that is set in Vanuatu and that is set in Yakel.  I ask r/vanuatu but no one answer. It seem very inactive there but it make sense as it is an isolated island country in the Pacific.  Some questions:  I heard of Yakel village but is Yakel also an indigenous tribe or ethnicity? What is their religion called? Is it some form of Animism?  Is the purpose of Kastom village to preserve traditional culture and way of life while rejecting every Western influence like Christianity, education and even Westernized lifestyle?  How many ethnicities are there in Vanuatu? Because I cannot find any info about them.   I will really appreciate if anyone can answer me.\",\n          \"Looking for an essay by a contemporary male French philosopher about the MeToo movement? Hi, sorry if my question is a bit vague, but I'm looking for a certain paper by a living male French philosopher that has written about Metoo as a cultural trend. It's quite an interesting essay in the sense that he analyses the power dynamic between (heterosexual) males and females, and how, in some cases, because of that power dynamic, the female is more often believed as the *de facto* victim, hence the question of sexual assault can be vague or misleading in those cases. Or something along that line.   I don't remember much else about the author, except that he and Zizek had meet and had a debate/talk about queerness/trangenderism, then both got called out by a feminist author in the same debate. As far as I remember, the male author in question is left-leaning but habour some questionable views on such cultural issues.  (It should be noted that I don't necessarily agree with his views, the essay is just very eloquent and I want to focus on his misunderstanding of the \\\"believe women\\\" as a normative claim instead of a legislative claim).\",\n          \"Why do my scrambled eggs always burn? There\\u2019s always enough fat / oil or butter in the pan\"\n        ],\n        \"semantic_type\": \"\",\n        \"description\": \"\"\n      }\n    },\n    {\n      \"column\": \"human_ref_A\",\n      \"properties\": {\n        \"dtype\": \"string\",\n        \"num_unique_values\": 894,\n        \"samples\": [\n          \"Phenobarbital can definitely cause increased thirst. Listed here under potential side effects.\",\n          \"This sub is called \\u201caskHR\\u201d so I think you\\u2019re looking for an HR type answer. Not my personal opinion of what you should or shouldn\\u2019t do.   HR answer - calling out for weather is not necessarily \\u201cexcusable\\u201d. If others can make it in, you should be able to too. Inclement weather is not a reason an absence would be protected, like your own illness that could be covered by ADA or FMLA.   That said, calling out once or twice for bad weather or road conditions shouldn\\u2019t get your fired. That is, if you\\u2019re not also calling out for a ton of other reasons.\",\n          \"An N-body state can be represented by a rank-N tensor, so I guess in the thermodynamic limit you could treat that as an infinite-rank tensor.\"\n        ],\n        \"semantic_type\": \"\",\n        \"description\": \"\"\n      }\n    },\n    {\n      \"column\": \"reward score\",\n      \"properties\": {\n        \"dtype\": \"number\",\n        \"std\": 0.12240831506066967,\n        \"min\": 0.0716169402003288,\n        \"max\": 0.9976199865341188,\n        \"num_unique_values\": 894,\n        \"samples\": [\n          0.9719555377960204,\n          0.9788566827774048,\n          0.6934682130813599\n        ],\n        \"semantic_type\": \"\",\n        \"description\": \"\"\n      }\n    },\n    {\n      \"column\": \"z_normalized_reward\",\n      \"properties\": {\n        \"dtype\": \"number\",\n        \"std\": 1.0,\n        \"min\": -6.697262847192955,\n        \"max\": 0.8676076101353055,\n        \"num_unique_values\": 894,\n        \"samples\": [\n          0.657944984476436,\n          0.7143230579591389,\n          -1.617123703272701\n        ],\n        \"semantic_type\": \"\",\n        \"description\": \"\"\n      }\n    }\n  ]\n}"
            }
          },
          "metadata": {},
          "execution_count": 2
        }
      ]
    },
    {
      "cell_type": "code",
      "source": [
        "#Imports\n",
        "import pathlib\n",
        "import re\n",
        "import textwrap\n",
        "\n",
        "import google.generativeai as genai\n",
        "\n",
        "from IPython.display import display\n",
        "from IPython.display import Markdown\n",
        "\n",
        "\n",
        "def to_markdown(text):\n",
        "  text = text.replace('•', '  *')\n",
        "  return Markdown(textwrap.indent(text, '> ', predicate=lambda _: True))\n",
        "\n",
        "#Import to store API on Colab\n",
        "from google.colab import userdata\n"
      ],
      "metadata": {
        "id": "FKw6ff-YPphd"
      },
      "execution_count": null,
      "outputs": []
    },
    {
      "cell_type": "code",
      "source": [
        "#Put API Key in environment variable under 'secrets'\n",
        "GOOGLE_API_KEY = userdata.get('GOOGL_API_KEY')\n",
        "genai.configure(api_key = GOOGLE_API_KEY)\n",
        "model = genai.GenerativeModel('gemini-1.5-pro-latest')"
      ],
      "metadata": {
        "id": "eF2lwXBQPpkO"
      },
      "execution_count": null,
      "outputs": []
    },
    {
      "cell_type": "code",
      "source": [
        "response = model.generate_content(\"Where does the sun rise?\")\n",
        "to_markdown(response.text) #Prints output."
      ],
      "metadata": {
        "colab": {
          "base_uri": "https://localhost:8080/",
          "height": 62
        },
        "id": "Xu62eC2mPpnE",
        "outputId": "013e629a-659b-471d-a57a-ae100c8289a2"
      },
      "execution_count": null,
      "outputs": [
        {
          "output_type": "execute_result",
          "data": {
            "text/plain": [
              "<IPython.core.display.Markdown object>"
            ],
            "text/markdown": "> The sun always rises in the **East**. \n"
          },
          "metadata": {},
          "execution_count": 5
        }
      ]
    },
    {
      "cell_type": "code",
      "source": [
        "prompt = \"\"\"You are a writing expert. I will give you a set of 144 questions and answers along with the domain of the question, and the helpfulness score for the answer with respect to the question.\n",
        "A higher score means that the answer is helpful with respect to the question.\n",
        "Go through all the  examples and identify the domains in which the answers have received a poor score.\n",
        "Also, among the questions which have received a poor score, check for common patterns. For example, all these questions might be fact-related, or might use some proper noun in them.\n",
        "Similarly, check for common patterns in the domains which have received a high score.\n",
        "Your task is to come up with a set of 20 questions, primarily focused on domains that have received a low score. Make sure that you use common patterns from the high performing questions while framing these questions.\n",
        "Print exactly a numbered list of 20 items. Each item should first the category name in paranthesis followed by the question you have generated.\n",
        "Here are the questions along with the corresponding domains, answers, and helpfulness scores.\n",
        "\"\"\"\n",
        "i = 1"
      ],
      "metadata": {
        "id": "KUMwwan3P9sq"
      },
      "execution_count": null,
      "outputs": []
    },
    {
      "cell_type": "code",
      "source": [
        "while len(output_df) < 2020:\n",
        "  # New dataframe - 8 random rows from each of the 18 categories: -\n",
        "  Gemini_input_df = pd.DataFrame()\n",
        "\n",
        "  for _, group in df.groupby('domain'):\n",
        "      random_sample = group.sample(n=8, replace=False)\n",
        "      Gemini_input_df = pd.concat([Gemini_input_df, random_sample], ignore_index=True)\n",
        "  Gemini_input_df['z_normalized_reward'] = Gemini_input_df['z_normalized_reward'].astype(str)\n",
        "  Gemini_input_string = \"\"\n",
        "  for index, row in Gemini_input_df.iterrows():\n",
        "      Gemini_input_string += (\"Domain: \" + row['domain'] +\n",
        "                              \". Question: \" + row['history'] +\n",
        "                              \" Answer: \" + row['human_ref_A'] +\n",
        "                              \" Helpfulness Score for the Answer: \" + row['z_normalized_reward'] + \". \")\n",
        "\n",
        "  prompt = prompt + Gemini_input_string\n",
        "\n",
        "\n",
        "  response = model.generate_content(prompt)\n",
        "  Gem_out = response.text\n",
        "  Gem_out = Gem_out.replace(\"\\n\", \"\")\n",
        "  # Remove everything before the first question\n",
        "  Gem_out_cleaned = re.sub(r'^.*?1\\.', '1.', Gem_out, flags=re.DOTALL)\n",
        "\n",
        "  # Splitting the string into a list of questions\n",
        "  questions = re.split(r'\\d+\\.\\s*\\(', Gem_out_cleaned)\n",
        "\n",
        "  # Removing the first empty element if present\n",
        "  if questions[0] == '':\n",
        "      questions.pop(0)\n",
        "\n",
        "  # Parsing each question to extract category and the question text\n",
        "  for question in questions:\n",
        "      match = re.match(r'(.*?)\\)\\s*(.*)', question)\n",
        "      if match:\n",
        "          category = match.group(1).strip()\n",
        "          question_text = match.group(2).strip()\n",
        "          new_row = pd.DataFrame({'domain': [category], 'duestion': [question_text]})\n",
        "          output_df = pd.concat([output_df, new_row], ignore_index=True)\n",
        "  print(i)\n",
        "  i = i+1"
      ],
      "metadata": {
        "id": "MD55YG7AJ59p"
      },
      "execution_count": null,
      "outputs": []
    },
    {
      "cell_type": "code",
      "source": [
        "output_df.to_csv(output_path, mode='a', header=False, index=False)"
      ],
      "metadata": {
        "id": "gWnY3kWONBrK"
      },
      "execution_count": null,
      "outputs": []
    }
  ]
}